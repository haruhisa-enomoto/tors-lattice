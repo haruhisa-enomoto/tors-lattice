{
 "cells": [
  {
   "cell_type": "code",
   "execution_count": 146,
   "metadata": {},
   "outputs": [],
   "source": [
    "from itertools import chain,combinations\n",
    "def powerset(iterable):\n",
    "    \"powerset([1,2,3]) --> () (1,) (2,) (3,) (1,2) (1,3) (2,3) (1,2,3)\"\n",
    "    s = list(iterable)\n",
    "    return chain.from_iterable(combinations(s, r) for r in range(len(s)+1))"
   ]
  },
  {
   "cell_type": "code",
   "execution_count": 147,
   "metadata": {},
   "outputs": [],
   "source": [
    "W = WeylGroup(\"A5\", prefix = \"s\")\n",
    "s = W.simple_reflections()\n",
    "torsA = W.weak_lattice()\n",
    "c_Q = W.from_reduced_word([1,3,2,4,5])\n",
    "torsA = torsA.subposet([w for w in W if w.is_coxeter_sortable(c_Q)])\n",
    "torsA = LatticePoset(torsA)\n",
    "modA = torsA.top() # the maximum element is modA"
   ]
  },
  {
   "cell_type": "code",
   "execution_count": 148,
   "metadata": {},
   "outputs": [
    {
     "name": "stdout",
     "output_type": "stream",
     "text": [
      "There are 394 ICEs!\n"
     ]
    }
   ],
   "source": [
    "ice_int = [(modA,modA)] # the list of sincere ICE intervals. We must add 0.\n",
    "for U in torsA:\n",
    "    if U == modA:\n",
    "        continue\n",
    "    U_upper = torsA.upper_covers(U)\n",
    "    U_plus = torsA.join(U_upper)\n",
    "    inter_tors = set(torsA.closed_interval(U,U_plus)) - {U}\n",
    "    for arrow_set in powerset(U_upper):\n",
    "        if len(arrow_set) == 0 or len(arrow_set) == len(U_upper):\n",
    "            continue\n",
    "        T = torsA.join(arrow_set)\n",
    "        inter_tors = inter_tors - set(torsA.closed_interval(U,T))\n",
    "    ice_int = ice_int + ([(U,T) for T in inter_tors])\n",
    "\n",
    "print (f\"There are {len(ice_int)} ICEs!\")"
   ]
  },
  {
   "cell_type": "code",
   "execution_count": 36,
   "metadata": {},
   "outputs": [
    {
     "data": {
      "text/plain": [
       "[s1*s2*s1]"
      ]
     },
     "execution_count": 36,
     "metadata": {},
     "output_type": "execute_result"
    }
   ],
   "source": [
    "U_upper"
   ]
  },
  {
   "cell_type": "code",
   "execution_count": 40,
   "metadata": {},
   "outputs": [
    {
     "name": "stdout",
     "output_type": "stream",
     "text": [
      "<class 'sage.sets.set.Set_object_enumerated_with_category'>\n",
      "<class 'sage.sets.set.Set_object_enumerated_with_category'>\n"
     ]
    }
   ],
   "source": [
    "for temp in Subsets(U_upper):\n",
    "    print (type(temp))"
   ]
  },
  {
   "cell_type": "code",
   "execution_count": 49,
   "metadata": {},
   "outputs": [],
   "source": []
  },
  {
   "cell_type": "code",
   "execution_count": 54,
   "metadata": {},
   "outputs": [
    {
     "name": "stdout",
     "output_type": "stream",
     "text": [
      "100 loops, best of 5: 3.29 ms per loop\n"
     ]
    }
   ],
   "source": [
    "%timeit [temp for  temp in Subsets(WeylGroup(\"A2\"))]"
   ]
  },
  {
   "cell_type": "code",
   "execution_count": 52,
   "metadata": {},
   "outputs": [],
   "source": [
    "from itertools import chain,combinations\n",
    "def powerset(iterable):\n",
    "    \"powerset([1,2,3]) --> () (1,) (2,) (3,) (1,2) (1,3) (2,3) (1,2,3)\"\n",
    "    s = list(iterable)\n",
    "    return chain.from_iterable(combinations(s, r) for r in range(len(s)+1))"
   ]
  },
  {
   "cell_type": "code",
   "execution_count": 60,
   "metadata": {},
   "outputs": [
    {
     "name": "stdout",
     "output_type": "stream",
     "text": [
      "1000 loops, best of 5: 336 µs per loop\n"
     ]
    }
   ],
   "source": [
    "%timeit [temp for  temp in powerset(WeylGroup(\"A2\"))]"
   ]
  },
  {
   "cell_type": "code",
   "execution_count": 59,
   "metadata": {},
   "outputs": [
    {
     "name": "stdout",
     "output_type": "stream",
     "text": [
      "{}\n",
      "{1}\n",
      "{s1*s2}\n",
      "{s2*s1}\n",
      "{s1}\n",
      "{s2}\n",
      "{s1*s2*s1}\n",
      "{1, s1*s2}\n",
      "{1, s2*s1}\n",
      "{1, s1}\n",
      "{1, s2}\n",
      "{1, s1*s2*s1}\n",
      "{s2*s1, s1*s2}\n",
      "{s1, s1*s2}\n",
      "{s2, s1*s2}\n",
      "{s1*s2*s1, s1*s2}\n",
      "{s2*s1, s1}\n",
      "{s2*s1, s2}\n",
      "{s1*s2*s1, s2*s1}\n",
      "{s1, s2}\n",
      "{s1*s2*s1, s1}\n",
      "{s1*s2*s1, s2}\n",
      "{1, s2*s1, s1*s2}\n",
      "{1, s1, s1*s2}\n",
      "{s2, 1, s1*s2}\n",
      "{1, s1*s2*s1, s1*s2}\n",
      "{1, s2*s1, s1}\n",
      "{1, s2*s1, s2}\n",
      "{s1*s2*s1, 1, s2*s1}\n",
      "{1, s1, s2}\n",
      "{s1*s2*s1, 1, s1}\n",
      "{1, s1*s2*s1, s2}\n",
      "{s2*s1, s1, s1*s2}\n",
      "{s2, s2*s1, s1*s2}\n",
      "{s1*s2*s1, s2*s1, s1*s2}\n",
      "{s2, s1, s1*s2}\n",
      "{s1*s2*s1, s1, s1*s2}\n",
      "{s2, s1*s2*s1, s1*s2}\n",
      "{s2, s2*s1, s1}\n",
      "{s1*s2*s1, s2*s1, s1}\n",
      "{s1*s2*s1, s2*s1, s2}\n",
      "{s1*s2*s1, s1, s2}\n",
      "{1, s2*s1, s1, s1*s2}\n",
      "{s2, 1, s2*s1, s1*s2}\n",
      "{s1*s2*s1, 1, s2*s1, s1*s2}\n",
      "{s2, 1, s1, s1*s2}\n",
      "{s1*s2*s1, 1, s1, s1*s2}\n",
      "{s2, 1, s1*s2*s1, s1*s2}\n",
      "{s2, 1, s2*s1, s1}\n",
      "{s1*s2*s1, 1, s2*s1, s1}\n",
      "{s1*s2*s1, 1, s2*s1, s2}\n",
      "{s1*s2*s1, 1, s1, s2}\n",
      "{s2, s2*s1, s1, s1*s2}\n",
      "{s1*s2*s1, s2*s1, s1, s1*s2}\n",
      "{s2, s1*s2*s1, s2*s1, s1*s2}\n",
      "{s2, s1*s2*s1, s1, s1*s2}\n",
      "{s2, s1*s2*s1, s2*s1, s1}\n",
      "{1, s1, s2, s1*s2, s2*s1}\n",
      "{1, s1*s2*s1, s1, s1*s2, s2*s1}\n",
      "{1, s1*s2*s1, s2, s1*s2, s2*s1}\n",
      "{1, s1*s2*s1, s1, s2, s1*s2}\n",
      "{1, s1*s2*s1, s1, s2, s2*s1}\n",
      "{s1*s2*s1, s1, s2, s1*s2, s2*s1}\n",
      "{1, s1*s2*s1, s1, s2, s1*s2, s2*s1}\n"
     ]
    }
   ],
   "source": [
    "for temp in Subsets(WeylGroup(\"A2\", prefix = \"s\")):\n",
    "    print (temp)"
   ]
  },
  {
   "cell_type": "code",
   "execution_count": null,
   "metadata": {},
   "outputs": [],
   "source": []
  }
 ],
 "metadata": {
  "kernelspec": {
   "display_name": "SageMath 9.1",
   "language": "sage",
   "name": "sagemath"
  },
  "language_info": {
   "codemirror_mode": {
    "name": "ipython",
    "version": 3
   },
   "file_extension": ".py",
   "mimetype": "text/x-python",
   "name": "python",
   "nbconvert_exporter": "python",
   "pygments_lexer": "ipython3",
   "version": "3.7.3"
  }
 },
 "nbformat": 4,
 "nbformat_minor": 2
}
